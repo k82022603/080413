{
 "cells": [
  {
   "cell_type": "code",
   "execution_count": 2,
   "id": "ab52b8bb",
   "metadata": {},
   "outputs": [
    {
     "name": "stdout",
     "output_type": "stream",
     "text": [
      "Requirement already satisfied: langchain==0.0.350 in c:\\users\\ktds\\anaconda3\\envs\\llm\\lib\\site-packages (0.0.350)\n",
      "Requirement already satisfied: PyYAML>=5.3 in c:\\users\\ktds\\anaconda3\\envs\\llm\\lib\\site-packages (from langchain==0.0.350) (6.0.1)\n",
      "Requirement already satisfied: SQLAlchemy<3,>=1.4 in c:\\users\\ktds\\anaconda3\\envs\\llm\\lib\\site-packages (from langchain==0.0.350) (2.0.31)\n",
      "Requirement already satisfied: aiohttp<4.0.0,>=3.8.3 in c:\\users\\ktds\\anaconda3\\envs\\llm\\lib\\site-packages (from langchain==0.0.350) (3.10.0)\n",
      "Requirement already satisfied: async-timeout<5.0.0,>=4.0.0 in c:\\users\\ktds\\anaconda3\\envs\\llm\\lib\\site-packages (from langchain==0.0.350) (4.0.3)\n",
      "Requirement already satisfied: dataclasses-json<0.7,>=0.5.7 in c:\\users\\ktds\\anaconda3\\envs\\llm\\lib\\site-packages (from langchain==0.0.350) (0.6.7)\n",
      "Requirement already satisfied: jsonpatch<2.0,>=1.33 in c:\\users\\ktds\\anaconda3\\envs\\llm\\lib\\site-packages (from langchain==0.0.350) (1.33)\n",
      "Requirement already satisfied: langchain-community<0.1,>=0.0.2 in c:\\users\\ktds\\anaconda3\\envs\\llm\\lib\\site-packages (from langchain==0.0.350) (0.0.20)\n",
      "Requirement already satisfied: langchain-core<0.2,>=0.1 in c:\\users\\ktds\\anaconda3\\envs\\llm\\lib\\site-packages (from langchain==0.0.350) (0.1.23)\n",
      "Requirement already satisfied: langsmith<0.1.0,>=0.0.63 in c:\\users\\ktds\\anaconda3\\envs\\llm\\lib\\site-packages (from langchain==0.0.350) (0.0.87)\n",
      "Requirement already satisfied: numpy<2,>=1 in c:\\users\\ktds\\anaconda3\\envs\\llm\\lib\\site-packages (from langchain==0.0.350) (1.24.4)\n",
      "Requirement already satisfied: pydantic<3,>=1 in c:\\users\\ktds\\anaconda3\\envs\\llm\\lib\\site-packages (from langchain==0.0.350) (2.8.2)\n",
      "Requirement already satisfied: requests<3,>=2 in c:\\users\\ktds\\anaconda3\\envs\\llm\\lib\\site-packages (from langchain==0.0.350) (2.32.3)\n",
      "Requirement already satisfied: tenacity<9.0.0,>=8.1.0 in c:\\users\\ktds\\anaconda3\\envs\\llm\\lib\\site-packages (from langchain==0.0.350) (8.5.0)\n",
      "Requirement already satisfied: aiohappyeyeballs>=2.3.0 in c:\\users\\ktds\\anaconda3\\envs\\llm\\lib\\site-packages (from aiohttp<4.0.0,>=3.8.3->langchain==0.0.350) (2.3.4)\n",
      "Requirement already satisfied: aiosignal>=1.1.2 in c:\\users\\ktds\\anaconda3\\envs\\llm\\lib\\site-packages (from aiohttp<4.0.0,>=3.8.3->langchain==0.0.350) (1.3.1)\n",
      "Requirement already satisfied: attrs>=17.3.0 in c:\\users\\ktds\\anaconda3\\envs\\llm\\lib\\site-packages (from aiohttp<4.0.0,>=3.8.3->langchain==0.0.350) (23.1.0)\n",
      "Requirement already satisfied: frozenlist>=1.1.1 in c:\\users\\ktds\\anaconda3\\envs\\llm\\lib\\site-packages (from aiohttp<4.0.0,>=3.8.3->langchain==0.0.350) (1.4.1)\n",
      "Requirement already satisfied: multidict<7.0,>=4.5 in c:\\users\\ktds\\anaconda3\\envs\\llm\\lib\\site-packages (from aiohttp<4.0.0,>=3.8.3->langchain==0.0.350) (6.0.5)\n",
      "Requirement already satisfied: yarl<2.0,>=1.0 in c:\\users\\ktds\\anaconda3\\envs\\llm\\lib\\site-packages (from aiohttp<4.0.0,>=3.8.3->langchain==0.0.350) (1.9.4)\n",
      "Requirement already satisfied: marshmallow<4.0.0,>=3.18.0 in c:\\users\\ktds\\anaconda3\\envs\\llm\\lib\\site-packages (from dataclasses-json<0.7,>=0.5.7->langchain==0.0.350) (3.21.3)\n",
      "Requirement already satisfied: typing-inspect<1,>=0.4.0 in c:\\users\\ktds\\anaconda3\\envs\\llm\\lib\\site-packages (from dataclasses-json<0.7,>=0.5.7->langchain==0.0.350) (0.9.0)\n",
      "Requirement already satisfied: jsonpointer>=1.9 in c:\\users\\ktds\\anaconda3\\envs\\llm\\lib\\site-packages (from jsonpatch<2.0,>=1.33->langchain==0.0.350) (3.0.0)\n",
      "Requirement already satisfied: anyio<5,>=3 in c:\\users\\ktds\\anaconda3\\envs\\llm\\lib\\site-packages (from langchain-core<0.2,>=0.1->langchain==0.0.350) (4.2.0)\n",
      "Requirement already satisfied: packaging<24.0,>=23.2 in c:\\users\\ktds\\anaconda3\\envs\\llm\\lib\\site-packages (from langchain-core<0.2,>=0.1->langchain==0.0.350) (23.2)\n",
      "Requirement already satisfied: annotated-types>=0.4.0 in c:\\users\\ktds\\anaconda3\\envs\\llm\\lib\\site-packages (from pydantic<3,>=1->langchain==0.0.350) (0.7.0)\n",
      "Requirement already satisfied: pydantic-core==2.20.1 in c:\\users\\ktds\\anaconda3\\envs\\llm\\lib\\site-packages (from pydantic<3,>=1->langchain==0.0.350) (2.20.1)\n",
      "Requirement already satisfied: typing-extensions>=4.6.1 in c:\\users\\ktds\\anaconda3\\envs\\llm\\lib\\site-packages (from pydantic<3,>=1->langchain==0.0.350) (4.11.0)\n",
      "Requirement already satisfied: charset-normalizer<4,>=2 in c:\\users\\ktds\\anaconda3\\envs\\llm\\lib\\site-packages (from requests<3,>=2->langchain==0.0.350) (3.3.2)\n",
      "Requirement already satisfied: idna<4,>=2.5 in c:\\users\\ktds\\anaconda3\\envs\\llm\\lib\\site-packages (from requests<3,>=2->langchain==0.0.350) (3.7)\n",
      "Requirement already satisfied: urllib3<3,>=1.21.1 in c:\\users\\ktds\\anaconda3\\envs\\llm\\lib\\site-packages (from requests<3,>=2->langchain==0.0.350) (2.2.2)\n",
      "Requirement already satisfied: certifi>=2017.4.17 in c:\\users\\ktds\\anaconda3\\envs\\llm\\lib\\site-packages (from requests<3,>=2->langchain==0.0.350) (2024.7.4)\n",
      "Requirement already satisfied: greenlet!=0.4.17 in c:\\users\\ktds\\anaconda3\\envs\\llm\\lib\\site-packages (from SQLAlchemy<3,>=1.4->langchain==0.0.350) (3.0.3)\n",
      "Requirement already satisfied: sniffio>=1.1 in c:\\users\\ktds\\anaconda3\\envs\\llm\\lib\\site-packages (from anyio<5,>=3->langchain-core<0.2,>=0.1->langchain==0.0.350) (1.3.0)\n",
      "Requirement already satisfied: exceptiongroup>=1.0.2 in c:\\users\\ktds\\anaconda3\\envs\\llm\\lib\\site-packages (from anyio<5,>=3->langchain-core<0.2,>=0.1->langchain==0.0.350) (1.2.0)\n",
      "Requirement already satisfied: mypy-extensions>=0.3.0 in c:\\users\\ktds\\anaconda3\\envs\\llm\\lib\\site-packages (from typing-inspect<1,>=0.4.0->dataclasses-json<0.7,>=0.5.7->langchain==0.0.350) (1.0.0)\n"
     ]
    }
   ],
   "source": [
    "!pip install langchain==0.0.350"
   ]
  },
  {
   "cell_type": "code",
   "execution_count": 3,
   "id": "cd337020",
   "metadata": {},
   "outputs": [
    {
     "name": "stdout",
     "output_type": "stream",
     "text": [
      "Requirement already satisfied: openai==0.28.1 in c:\\users\\ktds\\anaconda3\\envs\\llm\\lib\\site-packages (0.28.1)\n",
      "Requirement already satisfied: requests>=2.20 in c:\\users\\ktds\\anaconda3\\envs\\llm\\lib\\site-packages (from openai==0.28.1) (2.32.3)\n",
      "Requirement already satisfied: tqdm in c:\\users\\ktds\\anaconda3\\envs\\llm\\lib\\site-packages (from openai==0.28.1) (4.66.4)\n",
      "Requirement already satisfied: aiohttp in c:\\users\\ktds\\anaconda3\\envs\\llm\\lib\\site-packages (from openai==0.28.1) (3.10.0)\n",
      "Requirement already satisfied: charset-normalizer<4,>=2 in c:\\users\\ktds\\anaconda3\\envs\\llm\\lib\\site-packages (from requests>=2.20->openai==0.28.1) (3.3.2)\n",
      "Requirement already satisfied: idna<4,>=2.5 in c:\\users\\ktds\\anaconda3\\envs\\llm\\lib\\site-packages (from requests>=2.20->openai==0.28.1) (3.7)\n",
      "Requirement already satisfied: urllib3<3,>=1.21.1 in c:\\users\\ktds\\anaconda3\\envs\\llm\\lib\\site-packages (from requests>=2.20->openai==0.28.1) (2.2.2)\n",
      "Requirement already satisfied: certifi>=2017.4.17 in c:\\users\\ktds\\anaconda3\\envs\\llm\\lib\\site-packages (from requests>=2.20->openai==0.28.1) (2024.7.4)\n",
      "Requirement already satisfied: aiohappyeyeballs>=2.3.0 in c:\\users\\ktds\\anaconda3\\envs\\llm\\lib\\site-packages (from aiohttp->openai==0.28.1) (2.3.4)\n",
      "Requirement already satisfied: aiosignal>=1.1.2 in c:\\users\\ktds\\anaconda3\\envs\\llm\\lib\\site-packages (from aiohttp->openai==0.28.1) (1.3.1)\n",
      "Requirement already satisfied: attrs>=17.3.0 in c:\\users\\ktds\\anaconda3\\envs\\llm\\lib\\site-packages (from aiohttp->openai==0.28.1) (23.1.0)\n",
      "Requirement already satisfied: frozenlist>=1.1.1 in c:\\users\\ktds\\anaconda3\\envs\\llm\\lib\\site-packages (from aiohttp->openai==0.28.1) (1.4.1)\n",
      "Requirement already satisfied: multidict<7.0,>=4.5 in c:\\users\\ktds\\anaconda3\\envs\\llm\\lib\\site-packages (from aiohttp->openai==0.28.1) (6.0.5)\n",
      "Requirement already satisfied: yarl<2.0,>=1.0 in c:\\users\\ktds\\anaconda3\\envs\\llm\\lib\\site-packages (from aiohttp->openai==0.28.1) (1.9.4)\n",
      "Requirement already satisfied: async-timeout<5.0,>=4.0 in c:\\users\\ktds\\anaconda3\\envs\\llm\\lib\\site-packages (from aiohttp->openai==0.28.1) (4.0.3)\n",
      "Requirement already satisfied: colorama in c:\\users\\ktds\\anaconda3\\envs\\llm\\lib\\site-packages (from tqdm->openai==0.28.1) (0.4.6)\n"
     ]
    }
   ],
   "source": [
    "!pip install openai==0.28.1"
   ]
  },
  {
   "cell_type": "code",
   "execution_count": 4,
   "id": "e28b9d69",
   "metadata": {},
   "outputs": [
    {
     "name": "stdout",
     "output_type": "stream",
     "text": [
      "Requirement already satisfied: huggingface-hub==0.19.4 in c:\\users\\ktds\\anaconda3\\envs\\llm\\lib\\site-packages (0.19.4)\n",
      "Requirement already satisfied: filelock in c:\\users\\ktds\\anaconda3\\envs\\llm\\lib\\site-packages (from huggingface-hub==0.19.4) (3.15.4)\n",
      "Requirement already satisfied: fsspec>=2023.5.0 in c:\\users\\ktds\\anaconda3\\envs\\llm\\lib\\site-packages (from huggingface-hub==0.19.4) (2024.6.1)\n",
      "Requirement already satisfied: requests in c:\\users\\ktds\\anaconda3\\envs\\llm\\lib\\site-packages (from huggingface-hub==0.19.4) (2.32.3)\n",
      "Requirement already satisfied: tqdm>=4.42.1 in c:\\users\\ktds\\anaconda3\\envs\\llm\\lib\\site-packages (from huggingface-hub==0.19.4) (4.66.4)\n",
      "Requirement already satisfied: pyyaml>=5.1 in c:\\users\\ktds\\anaconda3\\envs\\llm\\lib\\site-packages (from huggingface-hub==0.19.4) (6.0.1)\n",
      "Requirement already satisfied: typing-extensions>=3.7.4.3 in c:\\users\\ktds\\anaconda3\\envs\\llm\\lib\\site-packages (from huggingface-hub==0.19.4) (4.11.0)\n",
      "Requirement already satisfied: packaging>=20.9 in c:\\users\\ktds\\anaconda3\\envs\\llm\\lib\\site-packages (from huggingface-hub==0.19.4) (23.2)\n",
      "Requirement already satisfied: colorama in c:\\users\\ktds\\anaconda3\\envs\\llm\\lib\\site-packages (from tqdm>=4.42.1->huggingface-hub==0.19.4) (0.4.6)\n",
      "Requirement already satisfied: charset-normalizer<4,>=2 in c:\\users\\ktds\\anaconda3\\envs\\llm\\lib\\site-packages (from requests->huggingface-hub==0.19.4) (3.3.2)\n",
      "Requirement already satisfied: idna<4,>=2.5 in c:\\users\\ktds\\anaconda3\\envs\\llm\\lib\\site-packages (from requests->huggingface-hub==0.19.4) (3.7)\n",
      "Requirement already satisfied: urllib3<3,>=1.21.1 in c:\\users\\ktds\\anaconda3\\envs\\llm\\lib\\site-packages (from requests->huggingface-hub==0.19.4) (2.2.2)\n",
      "Requirement already satisfied: certifi>=2017.4.17 in c:\\users\\ktds\\anaconda3\\envs\\llm\\lib\\site-packages (from requests->huggingface-hub==0.19.4) (2024.7.4)\n"
     ]
    }
   ],
   "source": [
    "!pip install huggingface-hub==0.19.4"
   ]
  },
  {
   "cell_type": "code",
   "execution_count": 5,
   "id": "52652a4d",
   "metadata": {},
   "outputs": [
    {
     "data": {
      "text/plain": [
       "'카메라를 홍보하기 위한 좋은 문구를 추천해줘?'"
      ]
     },
     "execution_count": 5,
     "metadata": {},
     "output_type": "execute_result"
    }
   ],
   "source": [
    "from langchain import PromptTemplate\n",
    "template = \"{product}를 홍보하기 위한 좋은 문구를 추천해줘?\"\n",
    "\n",
    "prompt = PromptTemplate(\n",
    "    input_variables=[\"product\"],\n",
    "    template=template,\n",
    ")\n",
    "\n",
    "prompt.format(product=\"카메라\")"
   ]
  },
  {
   "cell_type": "code",
   "execution_count": 6,
   "id": "244ed60f",
   "metadata": {},
   "outputs": [
    {
     "ename": "ImportError",
     "evalue": "cannot import name '_signature' from 'langchain_community.chat_models.baichuan' (C:\\Users\\KTDS\\anaconda3\\envs\\llm\\lib\\site-packages\\langchain_community\\chat_models\\baichuan.py)",
     "output_type": "error",
     "traceback": [
      "\u001b[1;31m---------------------------------------------------------------------------\u001b[0m",
      "\u001b[1;31mImportError\u001b[0m                               Traceback (most recent call last)",
      "Cell \u001b[1;32mIn[6], line 4\u001b[0m\n\u001b[0;32m      1\u001b[0m \u001b[38;5;28;01mimport\u001b[39;00m \u001b[38;5;21;01mos\u001b[39;00m\n\u001b[0;32m      2\u001b[0m os\u001b[38;5;241m.\u001b[39menviron[\u001b[38;5;124m\"\u001b[39m\u001b[38;5;124mOPENAI_API_KEY\u001b[39m\u001b[38;5;124m\"\u001b[39m] \u001b[38;5;241m=\u001b[39m \u001b[38;5;124m\"\u001b[39m\u001b[38;5;124msk-\u001b[39m\u001b[38;5;124m\"\u001b[39m \u001b[38;5;66;03m#openai 키 입력\u001b[39;00m\n\u001b[1;32m----> 4\u001b[0m \u001b[38;5;28;01mfrom\u001b[39;00m \u001b[38;5;21;01mlangchain\u001b[39;00m\u001b[38;5;21;01m.\u001b[39;00m\u001b[38;5;21;01mchat_models\u001b[39;00m \u001b[38;5;28;01mimport\u001b[39;00m ChatOpenAI\n\u001b[0;32m      5\u001b[0m llm1 \u001b[38;5;241m=\u001b[39m ChatOpenAI(temperature\u001b[38;5;241m=\u001b[39m\u001b[38;5;241m0\u001b[39m,  \u001b[38;5;66;03m# 창의성 0으로 설정 \u001b[39;00m\n\u001b[0;32m      6\u001b[0m                  model_name\u001b[38;5;241m=\u001b[39m\u001b[38;5;124m'\u001b[39m\u001b[38;5;124mgpt-4o-mini\u001b[39m\u001b[38;5;124m'\u001b[39m,  \u001b[38;5;66;03m# 모델명\u001b[39;00m\n\u001b[0;32m      7\u001b[0m                 )\n\u001b[0;32m      9\u001b[0m prompt \u001b[38;5;241m=\u001b[39m \u001b[38;5;124m\"\u001b[39m\u001b[38;5;124m진희는 강아지를 키우고 있습니다. 진희가 키우고 있는 동물은?\u001b[39m\u001b[38;5;124m\"\u001b[39m\n",
      "File \u001b[1;32m~\\anaconda3\\envs\\llm\\lib\\site-packages\\langchain\\chat_models\\__init__.py:23\u001b[0m\n\u001b[0;32m     21\u001b[0m \u001b[38;5;28;01mfrom\u001b[39;00m \u001b[38;5;21;01mlangchain\u001b[39;00m\u001b[38;5;21;01m.\u001b[39;00m\u001b[38;5;21;01mchat_models\u001b[39;00m\u001b[38;5;21;01m.\u001b[39;00m\u001b[38;5;21;01manyscale\u001b[39;00m \u001b[38;5;28;01mimport\u001b[39;00m ChatAnyscale\n\u001b[0;32m     22\u001b[0m \u001b[38;5;28;01mfrom\u001b[39;00m \u001b[38;5;21;01mlangchain\u001b[39;00m\u001b[38;5;21;01m.\u001b[39;00m\u001b[38;5;21;01mchat_models\u001b[39;00m\u001b[38;5;21;01m.\u001b[39;00m\u001b[38;5;21;01mazure_openai\u001b[39;00m \u001b[38;5;28;01mimport\u001b[39;00m AzureChatOpenAI\n\u001b[1;32m---> 23\u001b[0m \u001b[38;5;28;01mfrom\u001b[39;00m \u001b[38;5;21;01mlangchain\u001b[39;00m\u001b[38;5;21;01m.\u001b[39;00m\u001b[38;5;21;01mchat_models\u001b[39;00m\u001b[38;5;21;01m.\u001b[39;00m\u001b[38;5;21;01mbaichuan\u001b[39;00m \u001b[38;5;28;01mimport\u001b[39;00m ChatBaichuan\n\u001b[0;32m     24\u001b[0m \u001b[38;5;28;01mfrom\u001b[39;00m \u001b[38;5;21;01mlangchain\u001b[39;00m\u001b[38;5;21;01m.\u001b[39;00m\u001b[38;5;21;01mchat_models\u001b[39;00m\u001b[38;5;21;01m.\u001b[39;00m\u001b[38;5;21;01mbaidu_qianfan_endpoint\u001b[39;00m \u001b[38;5;28;01mimport\u001b[39;00m QianfanChatEndpoint\n\u001b[0;32m     25\u001b[0m \u001b[38;5;28;01mfrom\u001b[39;00m \u001b[38;5;21;01mlangchain\u001b[39;00m\u001b[38;5;21;01m.\u001b[39;00m\u001b[38;5;21;01mchat_models\u001b[39;00m\u001b[38;5;21;01m.\u001b[39;00m\u001b[38;5;21;01mbedrock\u001b[39;00m \u001b[38;5;28;01mimport\u001b[39;00m BedrockChat\n",
      "File \u001b[1;32m~\\anaconda3\\envs\\llm\\lib\\site-packages\\langchain\\chat_models\\baichuan.py:1\u001b[0m\n\u001b[1;32m----> 1\u001b[0m \u001b[38;5;28;01mfrom\u001b[39;00m \u001b[38;5;21;01mlangchain_community\u001b[39;00m\u001b[38;5;21;01m.\u001b[39;00m\u001b[38;5;21;01mchat_models\u001b[39;00m\u001b[38;5;21;01m.\u001b[39;00m\u001b[38;5;21;01mbaichuan\u001b[39;00m \u001b[38;5;28;01mimport\u001b[39;00m (\n\u001b[0;32m      2\u001b[0m     DEFAULT_API_BASE,\n\u001b[0;32m      3\u001b[0m     ChatBaichuan,\n\u001b[0;32m      4\u001b[0m     _convert_delta_to_message_chunk,\n\u001b[0;32m      5\u001b[0m     _convert_dict_to_message,\n\u001b[0;32m      6\u001b[0m     _convert_message_to_dict,\n\u001b[0;32m      7\u001b[0m     _signature,\n\u001b[0;32m      8\u001b[0m )\n\u001b[0;32m     10\u001b[0m __all__ \u001b[38;5;241m=\u001b[39m [\n\u001b[0;32m     11\u001b[0m     \u001b[38;5;124m\"\u001b[39m\u001b[38;5;124mDEFAULT_API_BASE\u001b[39m\u001b[38;5;124m\"\u001b[39m,\n\u001b[0;32m     12\u001b[0m     \u001b[38;5;124m\"\u001b[39m\u001b[38;5;124m_convert_message_to_dict\u001b[39m\u001b[38;5;124m\"\u001b[39m,\n\u001b[1;32m   (...)\u001b[0m\n\u001b[0;32m     16\u001b[0m     \u001b[38;5;124m\"\u001b[39m\u001b[38;5;124mChatBaichuan\u001b[39m\u001b[38;5;124m\"\u001b[39m,\n\u001b[0;32m     17\u001b[0m ]\n",
      "\u001b[1;31mImportError\u001b[0m: cannot import name '_signature' from 'langchain_community.chat_models.baichuan' (C:\\Users\\KTDS\\anaconda3\\envs\\llm\\lib\\site-packages\\langchain_community\\chat_models\\baichuan.py)"
     ]
    }
   ],
   "source": [
    "import os\n",
    "os.environ[\"OPENAI_API_KEY\"] = \"sk-\" #openai 키 입력\n",
    "\n",
    "from langchain.chat_models import ChatOpenAI\n",
    "llm1 = ChatOpenAI(temperature=0,  # 창의성 0으로 설정 \n",
    "                 model_name='gpt-4o-mini',  # 모델명\n",
    "                )\n",
    "\n",
    "prompt = \"진희는 강아지를 키우고 있습니다. 진희가 키우고 있는 동물은?\"\n",
    "print(llm1.predict(prompt))"
   ]
  },
  {
   "cell_type": "code",
   "execution_count": 7,
   "id": "3335bb9b",
   "metadata": {},
   "outputs": [
    {
     "ename": "ImportError",
     "evalue": "cannot import name 'DEFAULT_REPO_ID' from 'langchain_community.llms.huggingface_hub' (C:\\Users\\KTDS\\anaconda3\\envs\\llm\\lib\\site-packages\\langchain_community\\llms\\huggingface_hub.py)",
     "output_type": "error",
     "traceback": [
      "\u001b[1;31m---------------------------------------------------------------------------\u001b[0m",
      "\u001b[1;31mImportError\u001b[0m                               Traceback (most recent call last)",
      "Cell \u001b[1;32mIn[7], line 4\u001b[0m\n\u001b[0;32m      1\u001b[0m \u001b[38;5;28;01mimport\u001b[39;00m \u001b[38;5;21;01mos\u001b[39;00m\n\u001b[0;32m      2\u001b[0m os\u001b[38;5;241m.\u001b[39menviron[\u001b[38;5;124m\"\u001b[39m\u001b[38;5;124mHUGGINGFACEHUB_API_TOKEN\u001b[39m\u001b[38;5;124m\"\u001b[39m] \u001b[38;5;241m=\u001b[39m \u001b[38;5;124m\"\u001b[39m\u001b[38;5;124mhf_ZisvWJCyBXNuPoknkMVfyXKmQTiGHSWtBe\u001b[39m\u001b[38;5;124m\"\u001b[39m  \u001b[38;5;66;03m#허깅페이스 키 입력\u001b[39;00m\n\u001b[1;32m----> 4\u001b[0m \u001b[38;5;28;01mfrom\u001b[39;00m \u001b[38;5;21;01mlangchain\u001b[39;00m \u001b[38;5;28;01mimport\u001b[39;00m HuggingFaceHub\n\u001b[0;32m      5\u001b[0m llm2 \u001b[38;5;241m=\u001b[39m HuggingFaceHub(repo_id \u001b[38;5;241m=\u001b[39m \u001b[38;5;124m\"\u001b[39m\u001b[38;5;124mgoogle/flan-t5-xxl\u001b[39m\u001b[38;5;124m\"\u001b[39m, model_kwargs\u001b[38;5;241m=\u001b[39m{\u001b[38;5;124m\"\u001b[39m\u001b[38;5;124mtemperature\u001b[39m\u001b[38;5;124m\"\u001b[39m:\u001b[38;5;241m0.8\u001b[39m, \u001b[38;5;124m\"\u001b[39m\u001b[38;5;124mmax_length\u001b[39m\u001b[38;5;124m\"\u001b[39m:\u001b[38;5;241m512\u001b[39m})\n\u001b[0;32m      7\u001b[0m prompt \u001b[38;5;241m=\u001b[39m \u001b[38;5;124m\"\u001b[39m\u001b[38;5;124m진희는 강아지를 키우고 있습니다. 진희가 키우고 있는 동물은?\u001b[39m\u001b[38;5;124m\"\u001b[39m\n",
      "File \u001b[1;32m~\\anaconda3\\envs\\llm\\lib\\site-packages\\langchain\\__init__.py:168\u001b[0m, in \u001b[0;36m__getattr__\u001b[1;34m(name)\u001b[0m\n\u001b[0;32m    166\u001b[0m     \u001b[38;5;28;01mreturn\u001b[39;00m GooseAI\n\u001b[0;32m    167\u001b[0m \u001b[38;5;28;01melif\u001b[39;00m name \u001b[38;5;241m==\u001b[39m \u001b[38;5;124m\"\u001b[39m\u001b[38;5;124mHuggingFaceHub\u001b[39m\u001b[38;5;124m\"\u001b[39m:\n\u001b[1;32m--> 168\u001b[0m     \u001b[38;5;28;01mfrom\u001b[39;00m \u001b[38;5;21;01mlangchain\u001b[39;00m\u001b[38;5;21;01m.\u001b[39;00m\u001b[38;5;21;01mllms\u001b[39;00m \u001b[38;5;28;01mimport\u001b[39;00m HuggingFaceHub\n\u001b[0;32m    170\u001b[0m     _warn_on_import(name, replacement\u001b[38;5;241m=\u001b[39m\u001b[38;5;124m\"\u001b[39m\u001b[38;5;124mlangchain.llms.HuggingFaceHub\u001b[39m\u001b[38;5;124m\"\u001b[39m)\n\u001b[0;32m    172\u001b[0m     \u001b[38;5;28;01mreturn\u001b[39;00m HuggingFaceHub\n",
      "File \u001b[1;32m~\\anaconda3\\envs\\llm\\lib\\site-packages\\langchain\\llms\\__init__.py:605\u001b[0m, in \u001b[0;36m__getattr__\u001b[1;34m(name)\u001b[0m\n\u001b[0;32m    603\u001b[0m     \u001b[38;5;28;01mreturn\u001b[39;00m _import_huggingface_endpoint()\n\u001b[0;32m    604\u001b[0m \u001b[38;5;28;01melif\u001b[39;00m name \u001b[38;5;241m==\u001b[39m \u001b[38;5;124m\"\u001b[39m\u001b[38;5;124mHuggingFaceHub\u001b[39m\u001b[38;5;124m\"\u001b[39m:\n\u001b[1;32m--> 605\u001b[0m     \u001b[38;5;28;01mreturn\u001b[39;00m \u001b[43m_import_huggingface_hub\u001b[49m\u001b[43m(\u001b[49m\u001b[43m)\u001b[49m\n\u001b[0;32m    606\u001b[0m \u001b[38;5;28;01melif\u001b[39;00m name \u001b[38;5;241m==\u001b[39m \u001b[38;5;124m\"\u001b[39m\u001b[38;5;124mHuggingFacePipeline\u001b[39m\u001b[38;5;124m\"\u001b[39m:\n\u001b[0;32m    607\u001b[0m     \u001b[38;5;28;01mreturn\u001b[39;00m _import_huggingface_pipeline()\n",
      "File \u001b[1;32m~\\anaconda3\\envs\\llm\\lib\\site-packages\\langchain\\llms\\__init__.py:230\u001b[0m, in \u001b[0;36m_import_huggingface_hub\u001b[1;34m()\u001b[0m\n\u001b[0;32m    229\u001b[0m \u001b[38;5;28;01mdef\u001b[39;00m \u001b[38;5;21m_import_huggingface_hub\u001b[39m() \u001b[38;5;241m-\u001b[39m\u001b[38;5;241m>\u001b[39m Any:\n\u001b[1;32m--> 230\u001b[0m     \u001b[38;5;28;01mfrom\u001b[39;00m \u001b[38;5;21;01mlangchain\u001b[39;00m\u001b[38;5;21;01m.\u001b[39;00m\u001b[38;5;21;01mllms\u001b[39;00m\u001b[38;5;21;01m.\u001b[39;00m\u001b[38;5;21;01mhuggingface_hub\u001b[39;00m \u001b[38;5;28;01mimport\u001b[39;00m HuggingFaceHub\n\u001b[0;32m    232\u001b[0m     \u001b[38;5;28;01mreturn\u001b[39;00m HuggingFaceHub\n",
      "File \u001b[1;32m~\\anaconda3\\envs\\llm\\lib\\site-packages\\langchain\\llms\\huggingface_hub.py:1\u001b[0m\n\u001b[1;32m----> 1\u001b[0m \u001b[38;5;28;01mfrom\u001b[39;00m \u001b[38;5;21;01mlangchain_community\u001b[39;00m\u001b[38;5;21;01m.\u001b[39;00m\u001b[38;5;21;01mllms\u001b[39;00m\u001b[38;5;21;01m.\u001b[39;00m\u001b[38;5;21;01mhuggingface_hub\u001b[39;00m \u001b[38;5;28;01mimport\u001b[39;00m (\n\u001b[0;32m      2\u001b[0m     DEFAULT_REPO_ID,\n\u001b[0;32m      3\u001b[0m     VALID_TASKS,\n\u001b[0;32m      4\u001b[0m     HuggingFaceHub,\n\u001b[0;32m      5\u001b[0m )\n\u001b[0;32m      7\u001b[0m __all__ \u001b[38;5;241m=\u001b[39m [\u001b[38;5;124m\"\u001b[39m\u001b[38;5;124mDEFAULT_REPO_ID\u001b[39m\u001b[38;5;124m\"\u001b[39m, \u001b[38;5;124m\"\u001b[39m\u001b[38;5;124mVALID_TASKS\u001b[39m\u001b[38;5;124m\"\u001b[39m, \u001b[38;5;124m\"\u001b[39m\u001b[38;5;124mHuggingFaceHub\u001b[39m\u001b[38;5;124m\"\u001b[39m]\n",
      "\u001b[1;31mImportError\u001b[0m: cannot import name 'DEFAULT_REPO_ID' from 'langchain_community.llms.huggingface_hub' (C:\\Users\\KTDS\\anaconda3\\envs\\llm\\lib\\site-packages\\langchain_community\\llms\\huggingface_hub.py)"
     ]
    }
   ],
   "source": [
    "import os\n",
    "os.environ[\"HUGGINGFACEHUB_API_TOKEN\"] = \"hf_\"  #허깅페이스 키 입력\n",
    "\n",
    "from langchain import HuggingFaceHub\n",
    "llm2 = HuggingFaceHub(repo_id = \"google/flan-t5-xxl\", model_kwargs={\"temperature\":0.8, \"max_length\":512})\n",
    "\n",
    "prompt = \"진희는 강아지를 키우고 있습니다. 진희가 키우고 있는 동물은?\"\n",
    "completion = llm2(prompt)\n",
    "print(completion)"
   ]
  },
  {
   "cell_type": "code",
   "execution_count": null,
   "id": "f3ef58ac",
   "metadata": {},
   "outputs": [],
   "source": [
    "from langchain.model_laboratory import ModelLaboratory\n",
    "model_lab = ModelLaboratory.from_llms([llm1, llm2])\n",
    "model_lab.compare(\"대한민국의 가을은 몇 월부터 몇 월까지야?\")"
   ]
  },
  {
   "cell_type": "code",
   "execution_count": null,
   "id": "a28347b4",
   "metadata": {},
   "outputs": [],
   "source": [
    "from langchain.output_parsers import CommaSeparatedListOutputParser\n",
    "from langchain.prompts import PromptTemplate\n",
    "\n",
    "from langchain.chat_models import ChatOpenAI\n",
    "llm = ChatOpenAI(temperature=0,  # 창의성 0으로 설정 \n",
    "                 max_tokens=2048,  # 최대 토큰수\n",
    "                 model_name='gpt-4o-mini',  # 모델명\n",
    "                )\n",
    "\n",
    "output_parser = CommaSeparatedListOutputParser() #파서 초기화\n",
    "format_instructions = output_parser.get_format_instructions() #출력 형식 지정\n",
    "\n",
    "prompt = PromptTemplate(\n",
    "    template=\"7개의 팀을 보여줘 {subject}.\\n{format_instructions}\",\n",
    "    input_variables=[\"subject\"],\n",
    "    partial_variables={\"format_instructions\": format_instructions}\n",
    ")"
   ]
  },
  {
   "cell_type": "code",
   "execution_count": null,
   "id": "b68f3985",
   "metadata": {},
   "outputs": [],
   "source": [
    "query = \"한국의 야구팀은?\"\n",
    "\n",
    "# 출력 결과 생성\n",
    "output = llm.predict(text=prompt.format(subject=query))\n",
    "\n",
    "# 출력에 대한 포맷 변경\n",
    "parsed_result = output_parser.parse(output)\n",
    "print(parsed_result)"
   ]
  },
  {
   "cell_type": "code",
   "execution_count": null,
   "id": "0a7fa8f8-2af2-4b2a-939d-3592c1a12589",
   "metadata": {},
   "outputs": [],
   "source": []
  }
 ],
 "metadata": {
  "kernelspec": {
   "display_name": "Python (llm)",
   "language": "python",
   "name": "llm"
  },
  "language_info": {
   "codemirror_mode": {
    "name": "ipython",
    "version": 3
   },
   "file_extension": ".py",
   "mimetype": "text/x-python",
   "name": "python",
   "nbconvert_exporter": "python",
   "pygments_lexer": "ipython3",
   "version": "3.8.19"
  }
 },
 "nbformat": 4,
 "nbformat_minor": 5
}
