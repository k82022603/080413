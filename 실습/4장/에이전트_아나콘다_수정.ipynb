{
 "cells": [
  {
   "cell_type": "code",
   "execution_count": null,
   "id": "c084c02c",
   "metadata": {},
   "outputs": [],
   "source": [
    "!pip install langchain"
   ]
  },
  {
   "cell_type": "code",
   "execution_count": null,
   "id": "16d24748",
   "metadata": {},
   "outputs": [],
   "source": [
    "!pip install openai"
   ]
  },
  {
   "cell_type": "code",
   "execution_count": null,
   "id": "a736f2f1",
   "metadata": {},
   "outputs": [],
   "source": [
    "!pip install wikipedia"
   ]
  },
  {
   "cell_type": "code",
   "execution_count": null,
   "id": "b72bd503",
   "metadata": {},
   "outputs": [],
   "source": [
    "!pip install numexpr"
   ]
  },
  {
   "cell_type": "code",
   "execution_count": null,
   "id": "44d8fbba-a5b6-44f4-b8d8-7ad4ba6533c2",
   "metadata": {},
   "outputs": [],
   "source": [
    "!pip install langchain_community"
   ]
  },
  {
   "cell_type": "code",
   "execution_count": null,
   "id": "64c491c5-1d95-4809-9a8c-7329126c191d",
   "metadata": {},
   "outputs": [],
   "source": [
    "!pip install -U langchain-openai"
   ]
  },
  {
   "cell_type": "code",
   "execution_count": null,
   "id": "10db0ffd-651c-4c12-bd59-0ecc85d57bbf",
   "metadata": {},
   "outputs": [],
   "source": [
    "!pip install langgraph"
   ]
  },
  {
   "cell_type": "markdown",
   "id": "53370bdb-ff45-4756-ac8f-b377b5c5e1fe",
   "metadata": {},
   "source": [
    "## sample01"
   ]
  },
  {
   "cell_type": "code",
   "execution_count": null,
   "id": "3ba42f0f-540a-4c93-a01b-651b663a3863",
   "metadata": {},
   "outputs": [],
   "source": [
    "import os\n",
    "os.environ[\"OPENAI_API_KEY\"] = \"sk-proj-hXedXDpBrlTcFzTzuwsuT3BlbkFJNgLSTtQgf19RNc0i7K5b\" #openai 키 입력\n",
    "\n",
    "from langchain_openai import ChatOpenAI\n",
    "llm = ChatOpenAI(temperature=0,  # 창의성 0으로 설정 \n",
    "                 model_name='gpt-4o-mini',  # 모델명\n",
    "                )"
   ]
  },
  {
   "cell_type": "code",
   "execution_count": null,
   "id": "eca86f56-589f-43c2-8559-b1aa805f3c01",
   "metadata": {},
   "outputs": [],
   "source": [
    "from langchain_core.messages import HumanMessage\n",
    "\n",
    "response = llm.invoke([HumanMessage(content=\"hi!\")])\n",
    "response.content"
   ]
  },
  {
   "cell_type": "markdown",
   "id": "f8eed1d3-029e-4b2b-8345-a135d558f774",
   "metadata": {},
   "source": [
    "## sample02"
   ]
  },
  {
   "cell_type": "code",
   "execution_count": null,
   "id": "78c783f5-55ee-404a-866d-22a13ee48c3c",
   "metadata": {},
   "outputs": [],
   "source": [
    "# https://bcho.tistory.com/1427\n",
    "# https://api.python.langchain.com/en/latest/agents/langchain.agents.react.agent.create_react_agent.html\n",
    "import os\n",
    "os.environ[\"OPENAI_API_KEY\"] = \"sk-proj-hXedXDpBrlTcFzTzuwsuT3BlbkFJNgLSTtQgf19RNc0i7K5b\" #openai 키 입력\n",
    "\n",
    "#from langchain.chat_models import ChatOpenAI\n",
    "from langchain_openai import ChatOpenAI\n",
    "llm = ChatOpenAI(temperature=0,  # 창의성 0으로 설정 \n",
    "                 model_name='gpt-4o-mini',  # 모델명\n",
    "                )\n",
    "\n",
    "from langchain.agents import load_tools\n",
    "#from langchain.agents import initialize_agent\n",
    "from langchain.agents import AgentExecutor\n",
    "from langchain.agents import create_react_agent\n",
    "#from langchain import PromptTemplate\n",
    "from langchain_core.prompts import PromptTemplate\n",
    "\n",
    "# 도구 로드\n",
    "tools = load_tools([\"wikipedia\", \"llm-math\"], llm=llm) #llm-math의 경우 나이 계산을 위해 사용\n",
    "\n",
    "\n",
    "# 에이전트 초기화 (initialize_agent 대신 create_react_agent 사용)\n",
    "# agent = initialize_agent(tools, \n",
    "#                          llm, \n",
    "#                          agent=AgentType.ZERO_SHOT_REACT_DESCRIPTION, \n",
    "#                          description='계산이 필요할 때 사용',\n",
    "#                          verbose=True) \n",
    "\n",
    "\n",
    "# 도구 이름 추출\n",
    "tool_names = \", \".join([tool.name for tool in tools])\n",
    "# 초기화된 빈 작업 기록 (Scratchpad)\n",
    "agent_scratchpad = \"\"\n",
    "\n",
    "# 프롬프트 템플릿 생성\n",
    "#ChatGPT\n",
    "#https://github.com/elastic/elasticsearch-labs/blob/main/notebooks/generative-ai/question-answering.ipynb\n",
    "prompt = PromptTemplate.from_template(\n",
    "    \"You are an AI assistant. Answer the question using the following format:\\n\"\n",
    "    \"Thought: [What you are thinking]\\n\"\n",
    "    \"Action: [The action you will take]\\n\"\n",
    "    \"Action Input: [The input required for the action]\\n\"\n",
    "    \"If you have the final answer, respond with:\\n\"\n",
    "    \"Final Answer: [Your answer]\\n\\n\"\n",
    "    \"Question: {input}\\n\\n\"\n",
    "    \"Tools: {tools}\\n\\n\"\n",
    "    \"Tool Names: {tool_names}\\n\\n\"\n",
    "    \"Agent Scratchpad: {agent_scratchpad}\"\n",
    ")\n",
    "\n",
    "# How to migrate from legacy LangChain agents to LangGraph https://python.langchain.com/v0.2/docs/how_to/migrate_agent/\n",
    "agent = create_react_agent(\n",
    "    llm=llm,\n",
    "    tools=tools,\n",
    "    prompt=prompt.partial(\n",
    "        tools=tools,\n",
    "        tool_names=tool_names,\n",
    "        agent_scratchpad=agent_scratchpad\n",
    "    )\n",
    ")\n",
    "\n",
    "# 에이전트 실행기 초기화\n",
    "# Build an Agent with AgentExecutor (Legacy) https://python.langchain.com/v0.2/docs/how_to/agent_executor/\n",
    "# https://python.langchain.com/v0.1/docs/modules/agents/how_to/handle_parsing_errors/\n",
    "agent_executor = AgentExecutor(agent=agent, tools=tools, verbose=True, handle_parsing_errors=True)\n",
    "\n",
    "#에이전트 실행\n",
    "#agent.run(\"에드 시런이 태어난 해는? 2024년도 현재 에드 시런은 몇 살?\")\n",
    "result = agent_executor.invoke({\"input\": \"에드 시런이 태어난 해는? 2024년도 현재 에드 시런은 몇 살?\"})\n",
    "print(result[\"output\"])"
   ]
  },
  {
   "cell_type": "markdown",
   "id": "9161efe8-2d6e-4d23-bd79-25263b9a7754",
   "metadata": {},
   "source": [
    "## sample03"
   ]
  },
  {
   "cell_type": "code",
   "execution_count": null,
   "id": "16b7fd7d-45cf-42cf-9110-5865e2b213fe",
   "metadata": {},
   "outputs": [],
   "source": [
    "# https://bcho.tistory.com/1427\n",
    "# https://api.python.langchain.com/en/latest/agents/langchain.agents.react.agent.create_react_agent.html\n",
    "import os\n",
    "os.environ[\"OPENAI_API_KEY\"] = \"sk-proj-hXedXDpBrlTcFzTzuwsuT3BlbkFJNgLSTtQgf19RNc0i7K5b\" #openai 키 입력\n",
    "\n",
    "from langchain_openai import ChatOpenAI\n",
    "\n",
    "llm = ChatOpenAI(temperature=0,  # 창의성 0으로 설정 \n",
    "             model_name='gpt-4o-mini',  # 모델명\n",
    "            )\n",
    "\n",
    "from langchain.agents import load_tools\n",
    "from langchain.agents import AgentExecutor\n",
    "from langchain.agents import create_react_agent\n",
    "from langchain_core.prompts import PromptTemplate\n",
    "\n",
    "# 도구 로드\n",
    "tools = load_tools([\"wikipedia\", \"llm-math\"], llm=llm) #llm-math의 경우 나이 계산을 위해 사용\n",
    "\n",
    "# 도구 이름 추출\n",
    "tool_names = \", \".join([tool.name for tool in tools])\n",
    "# 초기화된 빈 작업 기록 (Scratchpad)\n",
    "agent_scratchpad = \"\"\n",
    "\n",
    "# 프롬프트 템플릿 생성\n",
    "# https://api.python.langchain.com/en/latest/agents/langchain.agents.react.agent.create_react_agent.html\n",
    "template = '''Answer the following questions as best you can. You have access to the following tools:\n",
    "\n",
    "{tools}\n",
    "\n",
    "Use the following format:\n",
    "\n",
    "Question: the input question you must answer\n",
    "Thought: you should always think about what to do\n",
    "Action: the action to take, should be one of [{tool_names}]\n",
    "Action Input: the input to the action\n",
    "Observation: the result of the action\n",
    "... (this Thought/Action/Action Input/Observation can repeat N times)\n",
    "Thought: I now know the final answer\n",
    "Final Answer: the final answer to the original input question\n",
    "\n",
    "Begin!\n",
    "\n",
    "Question: {input}\n",
    "Thought:{agent_scratchpad}'''\n",
    "\n",
    "prompt = PromptTemplate.from_template(template)\n",
    "search_agent = create_react_agent(llm,tools,prompt)\n",
    "\n",
    "agent_executor = AgentExecutor(\n",
    "    agent=search_agent,\n",
    "    tools=tools,\n",
    "    verbose=True,\n",
    "    return_intermediate_steps=True,\n",
    ")\n",
    "response = agent_executor.invoke({\"input\": \"Where is the hometown of the 2007 US PGA championship winner and his score?\"})\n",
    "print(response)\n"
   ]
  },
  {
   "cell_type": "markdown",
   "id": "8068716a-559f-4f6d-af84-f94ce0d22e9f",
   "metadata": {},
   "source": [
    "## sample04"
   ]
  },
  {
   "cell_type": "code",
   "execution_count": null,
   "id": "d5428aa6",
   "metadata": {},
   "outputs": [],
   "source": [
    "# https://python.langchain.com/v0.2/docs/how_to/migrate_agent/#iterating-through-steps\n",
    "import os\n",
    "os.environ[\"OPENAI_API_KEY\"] = \"sk-proj-hXedXDpBrlTcFzTzuwsuT3BlbkFJNgLSTtQgf19RNc0i7K5b\" #openai 키 입력\n",
    "\n",
    "from langchain.agents import load_tools\n",
    "from langchain.agents import AgentExecutor, create_tool_calling_agent\n",
    "from langchain_core.prompts import ChatPromptTemplate\n",
    "from langchain_core.tools import tool\n",
    "from langchain_openai import ChatOpenAI\n",
    "\n",
    "llm = ChatOpenAI(model=\"gpt-4o-mini\")\n",
    "\n",
    "prompt = ChatPromptTemplate.from_messages(\n",
    "    [\n",
    "        (\"system\", \"You are a helpful assistant.\"),\n",
    "        (\"human\", \"{input}\"),\n",
    "        # Placeholders fill up a **list** of messages\n",
    "        (\"placeholder\", \"{agent_scratchpad}\"),\n",
    "    ]\n",
    ")\n",
    "\n",
    "tools = load_tools([\"wikipedia\", \"llm-math\"], llm=llm) #llm-math의 경우 나이 계산을 위해 사용\n",
    "\n",
    "agent = create_tool_calling_agent(llm, tools, prompt=prompt)\n",
    "agent_executor = AgentExecutor(agent=agent, tools=tools, verbose=True)\n",
    "\n",
    "query = \"안중근 의사가 태어 난 해는 언제인가요? 2024년도 현재 살아 있다면 안중근 의사는 몇 살일까요?\"\n",
    "result = agent_executor.invoke({\"input\": query})\n",
    "print(result[\"output\"])\n",
    "\n",
    "query = \"아이즈원 김민주가 태어 난 해는 언제인가요? 2024년도 현재 몇 살일까요?\"\n",
    "for step in agent_executor.stream({\"input\": query}):\n",
    "    print(step)"
   ]
  }
 ],
 "metadata": {
  "kernelspec": {
   "display_name": "Python (llm)",
   "language": "python",
   "name": "llm"
  },
  "language_info": {
   "codemirror_mode": {
    "name": "ipython",
    "version": 3
   },
   "file_extension": ".py",
   "mimetype": "text/x-python",
   "name": "python",
   "nbconvert_exporter": "python",
   "pygments_lexer": "ipython3",
   "version": "3.12.4"
  }
 },
 "nbformat": 4,
 "nbformat_minor": 5
}
